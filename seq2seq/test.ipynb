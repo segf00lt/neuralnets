{
 "cells": [
  {
   "cell_type": "code",
   "execution_count": 2,
   "metadata": {},
   "outputs": [],
   "source": [
    "import torch\n",
    "import numpy as np\n",
    "import pandas as pd\n",
    "import polars as pl\n",
    "from datasets import load_dataset\n",
    "import re\n",
    "import string\n",
    "import pickle\n",
    "import os\n",
    "from unidecode import unidecode\n"
   ]
  },
  {
   "cell_type": "code",
   "execution_count": 13,
   "metadata": {},
   "outputs": [],
   "source": [
    "vocab_decode_path = 'de_en_vocab_decode.pkl'\n",
    "vocab_encode_path = 'de_en_vocab_encode.pkl'\n",
    "tokenized_dataset_path = 'de_en_tokenized_dataset.pkl'\n",
    "\n",
    "with open(tokenized_dataset_path, 'rb') as f: tokenized_dataset = pickle.load(f)\n",
    "with open(vocab_decode_path, 'rb') as f: vocab_decode = pickle.load(f)\n",
    "with open(vocab_encode_path, 'rb') as f: vocab_encode = pickle.load(f)"
   ]
  },
  {
   "cell_type": "code",
   "execution_count": 11,
   "metadata": {},
   "outputs": [],
   "source": [
    "import pyarrow.compute as pc"
   ]
  },
  {
   "cell_type": "code",
   "execution_count": 16,
   "metadata": {},
   "outputs": [
    {
     "data": {
      "text/html": [
       "<div><style>\n",
       ".dataframe > thead > tr,\n",
       ".dataframe > tbody > tr {\n",
       "  text-align: right;\n",
       "  white-space: pre-wrap;\n",
       "}\n",
       "</style>\n",
       "<small>shape: (1_961_119, 1)</small><table border=\"1\" class=\"dataframe\"><thead><tr><th>de</th></tr><tr><td>str</td></tr></thead><tbody><tr><td>&quot;wiederaufnahme…</td></tr><tr><td>&quot;ich erkläre d…</td></tr><tr><td>&quot;wie sie festst…</td></tr><tr><td>&quot;im parlament b…</td></tr><tr><td>&quot;heute möchte …</td></tr><tr><td>&hellip;</td></tr><tr><td>&quot;ich möchte mi…</td></tr><tr><td>&quot;ich will die a…</td></tr><tr><td>&quot;unterbrechung …</td></tr><tr><td>&quot;ich erkläre d…</td></tr><tr><td>&quot; die sitzung w…</td></tr></tbody></table></div>"
      ],
      "text/plain": [
       "shape: (1_961_119, 1)\n",
       "┌───────────────────────────────────┐\n",
       "│ de                                │\n",
       "│ ---                               │\n",
       "│ str                               │\n",
       "╞═══════════════════════════════════╡\n",
       "│ wiederaufnahme der sitzungsperio… │\n",
       "│ ich erkläre die am freitag dem …  │\n",
       "│ wie sie feststellen konnten ist … │\n",
       "│ im parlament besteht der wunsch … │\n",
       "│ heute möchte ich sie bitten das…  │\n",
       "│ …                                 │\n",
       "│ ich möchte mir sogar erlauben d…  │\n",
       "│ ich will die aussprache über mi…  │\n",
       "│ unterbrechung der sitzungsperiod… │\n",
       "│ ich erkläre die sitzungsperiode…  │\n",
       "│  die sitzung wird um 10 50 uhr g… │\n",
       "└───────────────────────────────────┘"
      ]
     },
     "execution_count": 16,
     "metadata": {},
     "output_type": "execute_result"
    }
   ],
   "source": [
    "df = tokenized_dataset\n",
    "df = df.with_columns(pl.col('de').list.eval(pl.element().replace(vocab_decode['de'])).list.join(' '))\n",
    "df.select(pl.col('de').flatten())\n",
    "#pl.from_arrow(pc.utf8_normalize(df['de'].to_arrow(), 'NFKD')).str.replace_all('[wp ]', '_').str.to_uppercase()"
   ]
  },
  {
   "cell_type": "code",
   "execution_count": 19,
   "metadata": {},
   "outputs": [
    {
     "name": "stdout",
     "output_type": "stream",
     "text": [
      "shape: (3, 2)\n",
      "┌───────────┬─────┐\n",
      "│ A         ┆ B   │\n",
      "│ ---       ┆ --- │\n",
      "│ list[i64] ┆ i64 │\n",
      "╞═══════════╪═════╡\n",
      "│ [1, 1]    ┆ 4   │\n",
      "│ [2, 2]    ┆ 5   │\n",
      "│ [3, 3]    ┆ 6   │\n",
      "└───────────┴─────┘\n"
     ]
    },
    {
     "ename": "AttributeError",
     "evalue": "'Series' object has no attribute 'flatten'",
     "output_type": "error",
     "traceback": [
      "\u001b[0;31m---------------------------------------------------------------------------\u001b[0m",
      "\u001b[0;31mAttributeError\u001b[0m                            Traceback (most recent call last)",
      "\u001b[1;32m/home/joao/Documents/projects/neuralnets/seq2seq/test.ipynb Cell 5\u001b[0m line \u001b[0;36m5\n\u001b[1;32m      <a href='vscode-notebook-cell:/home/joao/Documents/projects/neuralnets/seq2seq/test.ipynb#W4sZmlsZQ%3D%3D?line=2'>3</a>\u001b[0m \u001b[39mprint\u001b[39m(df)\n\u001b[1;32m      <a href='vscode-notebook-cell:/home/joao/Documents/projects/neuralnets/seq2seq/test.ipynb#W4sZmlsZQ%3D%3D?line=3'>4</a>\u001b[0m \u001b[39m# Flatten the DataFrame into a single Series\u001b[39;00m\n\u001b[0;32m----> <a href='vscode-notebook-cell:/home/joao/Documents/projects/neuralnets/seq2seq/test.ipynb#W4sZmlsZQ%3D%3D?line=4'>5</a>\u001b[0m series \u001b[39m=\u001b[39m df[\u001b[39m'\u001b[39;49m\u001b[39mA\u001b[39;49m\u001b[39m'\u001b[39;49m]\u001b[39m.\u001b[39;49mflatten()\n\u001b[1;32m      <a href='vscode-notebook-cell:/home/joao/Documents/projects/neuralnets/seq2seq/test.ipynb#W4sZmlsZQ%3D%3D?line=5'>6</a>\u001b[0m \u001b[39mprint\u001b[39m(series)\n",
      "\u001b[0;31mAttributeError\u001b[0m: 'Series' object has no attribute 'flatten'"
     ]
    }
   ],
   "source": [
    "data = {'A': [[1, 1], [2, 2], [3,3]], 'B': [4, 5, 6]}\n",
    "df = pl.DataFrame(data)\n",
    "print(df)\n",
    "# Flatten the DataFrame into a single Series\n",
    "series = df.select(pl.col('A').flatten())\n",
    "print(series)"
   ]
  }
 ],
 "metadata": {
  "kernelspec": {
   "display_name": "Python 3",
   "language": "python",
   "name": "python3"
  },
  "language_info": {
   "codemirror_mode": {
    "name": "ipython",
    "version": 3
   },
   "file_extension": ".py",
   "mimetype": "text/x-python",
   "name": "python",
   "nbconvert_exporter": "python",
   "pygments_lexer": "ipython3",
   "version": "3.11.8"
  }
 },
 "nbformat": 4,
 "nbformat_minor": 2
}
